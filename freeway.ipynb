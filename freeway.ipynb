{
 "cells": [
  {
   "cell_type": "code",
   "execution_count": 2,
   "metadata": {},
   "outputs": [],
   "source": [
    "import gymnasium as gym\n",
    "import math\n",
    "import random\n",
    "import matplotlib\n",
    "import matplotlib.pyplot as plt\n",
    "from collections import namedtuple, deque\n",
    "from itertools import count\n",
    "import numpy as np \n",
    "\n",
    "import torch\n",
    "import torch.nn as nn\n",
    "import torch.optim as optim\n",
    "import torch.nn.functional as F\n",
    "import torchvision\n",
    "\n",
    "from tqdm import tqdm, trange\n",
    "\n",
    "# set up matplotlib\n",
    "is_ipython = 'inline' in matplotlib.get_backend()\n",
    "if is_ipython:\n",
    "\tfrom IPython import display\n",
    "\n",
    "plt.ion()\n",
    "\n",
    "# if GPU is to be used\n",
    "device = torch.device(\"cuda\" if torch.cuda.is_available() else \"cpu\")"
   ]
  },
  {
   "cell_type": "code",
   "execution_count": 3,
   "metadata": {},
   "outputs": [],
   "source": [
    "env = gym.make('ALE/Freeway-ram-v5')"
   ]
  },
  {
   "cell_type": "code",
   "execution_count": 5,
   "metadata": {},
   "outputs": [],
   "source": [
    "state, info = env.reset() \n",
    "\n",
    "RAM_mask = [14, 16, 108, 109, 110, 111, 112, 113, 114, 115, 116, 117]"
   ]
  },
  {
   "cell_type": "code",
   "execution_count": 3,
   "metadata": {},
   "outputs": [],
   "source": [
    "transition = namedtuple('Transition', ('frames_storage', 'action', 'next_state', 'reward'))\n",
    "\n",
    "class replay_memory(object): \n",
    "\tdef __init__(self, capacity): \n",
    "\t\tself.memory = deque(list(), maxlen=capacity) \n",
    "\t\t\n",
    "\tdef push(self, *args): \n",
    "\t\tself.memory.append(transition(*args))\n",
    "\t\n",
    "\tdef sample(self, batch_size): \n",
    "\t\treturn random.sample(self.memory, batch_size) \n",
    "\t\n",
    "\tdef __len__(self): \n",
    "\t\treturn len(self.memory) "
   ]
  },
  {
   "cell_type": "code",
   "execution_count": 4,
   "metadata": {},
   "outputs": [],
   "source": [
    "def select_action(state): \n",
    "\tglobal steps_done \n",
    "\tsample = random.random() \n",
    "\teps_threshold = eps_end + (eps_start - eps_end) * math.exp(-1. * steps_done / eps_decay) \n",
    "\tsteps_done += 1 \n",
    "\tif sample > eps_threshold: \n",
    "\t\twith torch.no_grad(): \n",
    "\t\t\treturn policy_net(torch.from_numpy(np.asarray(state)).float().unsqueeze(0).to(device)).argmax(keepdims=True)\n",
    "\telse: \n",
    "\t\treturn torch.tensor([[env.action_space.sample()]], device=device, dtype=torch.long)\n",
    "\n",
    "def plot_durations(show_result=False): \n",
    "\t_, ax1 = plt.subplots() \n",
    "\tdurations_t = torch.tensor(episode_duration, dtype=torch.float)\n",
    "\treward_t = torch.tensor(rewards, dtype=torch.float)\n",
    "\tif show_result: \n",
    "\t\tplt.title('Result')\n",
    "\telse: \n",
    "\t\t# plt.clf()\n",
    "\t\tplt.title('Training...')\n",
    "\tax1.set_xlabel('Episode')\n",
    "\tax1.set_ylabel('Duration')\n",
    "\tax1.plot(durations_t.numpy(), color='blue')\n",
    "\n",
    "\tax2 = ax1.twinx()\n",
    "\tax2.set_ylabel('Reward')\n",
    "\tax2.plot(reward_t.numpy(), color='red')\n",
    "\n",
    "\tif is_ipython: \n",
    "\t\tif not show_result: \n",
    "\t\t\tdisplay.display(plt.gcf()) \n",
    "\t\t\tdisplay.clear_output(wait=True) \n",
    "\t\telse: \n",
    "\t\t\tdisplay.display(plt.gcf())\n",
    "\n",
    "def optimize_model(): \n",
    "\tif len(memory) < bs: \n",
    "\t\treturn False\n",
    "\ttransitions = memory.sample(bs)\n",
    "\tbatch = transition(*zip(*transitions))\n",
    "\tnon_final_mask = torch.tensor(tuple(map(lambda s: s is not None, batch.next_state)), device=device, dtype=torch.bool)\n",
    "\tnon_final_next_states = torch.cat([torch.from_numpy(np.asarray(s)) for s in batch.next_state if s is not None]).view(-1, 4, 210, 160).to(device)\n",
    "\tstate_batch = torch.tensor(batch.frames_storage).to(device)\n",
    "\taction_batch = torch.cat(batch.action)\n",
    "\treward_batch = torch.cat(batch.reward) \n",
    "\n",
    "\tstate_action_values = policy_net(state_batch).gather(1, action_batch) \n",
    "\t\n",
    "\tnext_state_values = torch.zeros(bs, device=device)\n",
    "\n",
    "\twith torch.no_grad(): \n",
    "\t\tnext_state_values[non_final_mask] = target_net(non_final_next_states).max(1)[0]\n",
    "\t\n",
    "\texpected_state_action_values = (next_state_values * gamma) + reward_batch \n",
    "\n",
    "\tloss = loss_fn(state_action_values, expected_state_action_values.unsqueeze(1))\n",
    "\n",
    "\toptimizer.zero_grad() \n",
    "\tloss.backward() \n",
    "\n",
    "\tnn.utils.clip_grad_value_(policy_net.parameters(), 100) \n",
    "\toptimizer.step() "
   ]
  },
  {
   "cell_type": "code",
   "execution_count": 5,
   "metadata": {},
   "outputs": [],
   "source": [
    "class dqn(nn.Module): \n",
    "\tdef __init__(self, n_action=env.action_space.n): \n",
    "\t\tsuper().__init__() \n",
    "\n",
    "\t\tself.net = nn.Sequential(\n",
    "\t\t\tnn.Conv2d(4, 8, 3), nn.ReLU(), nn.MaxPool2d(3), \n",
    "\t\t\tnn.Conv2d(8, 16, 3), nn.ReLU(), nn.MaxPool2d(3), \n",
    "\t\t\tnn.Conv2d(16, 32, 3), nn.ReLU(), nn.MaxPool2d(3), \n",
    "\t\t\tnn.Flatten(), nn.Linear(768, 10), nn.ReLU(), \n",
    "\t\t\tnn.Linear(10, n_action)\n",
    "\t\t)\n",
    "\t\n",
    "\tdef forward(self, x): \n",
    "\t\tout = self.net(x/255) \n",
    "\t\treturn out \n",
    "\n",
    "# print(torch.from_numpy(np.asarray(frames_storage)).float().shape)\n",
    "# dqn()(torch.from_numpy(np.asarray(frames_storage)).float().unsqueeze(0))"
   ]
  },
  {
   "cell_type": "code",
   "execution_count": 8,
   "metadata": {},
   "outputs": [
    {
     "name": "stderr",
     "output_type": "stream",
     "text": [
      "  0%|          | 0/10000000 [00:00<?, ?it/s]"
     ]
    },
    {
     "name": "stderr",
     "output_type": "stream",
     "text": [
      "Iterations 7461/10000000:   0%|          | 7461/10000000 [3:48:46<5482:32:00,  1.98s/it, reward=0]"
     ]
    },
    {
     "name": "stderr",
     "output_type": "stream",
     "text": [
      "Iterations 7464/10000000:   0%|          | 7464/10000000 [3:48:52<5494:47:29,  1.98s/it, reward=0]"
     ]
    }
   ],
   "source": [
    "bs = 128 \n",
    "gamma = 0.99 \n",
    "eps_start, eps_end = 0.9, 0.05 \n",
    "eps_decay = 1000 \n",
    "tau = 0.005 \n",
    "lr = 1e-4 \n",
    "\n",
    "state, info = env.reset() \n",
    "\n",
    "policy_net = dqn().to(device) \n",
    "target_net = dqn().to(device) \n",
    "target_net.load_state_dict(policy_net.state_dict())\n",
    "\n",
    "optimizer = optim.AdamW(policy_net.parameters(), lr=lr, amsgrad=True)\n",
    "memory = replay_memory(1000000) \n",
    "\n",
    "steps_done = 0 \n",
    "\n",
    "loss_fn = nn.SmoothL1Loss()\n",
    "\n",
    "num_episodes = 10000000\n",
    "episode_duration = list() \n",
    "rewards, rewards_agg = list(), 0 \n",
    "\n",
    "state, info = env.reset() \n",
    "state = torchvision.transforms.Grayscale()(torch.from_numpy(state).permute(2, 0, 1)).view(210, 160).tolist()\n",
    "frames_storage = deque([state for _ in range(4)], maxlen=4)\n",
    "next_state = deque([state for _ in range(4)], maxlen=4)\n",
    "\n",
    "for i_episode in (loop := trange(num_episodes)): \n",
    "\t# for t in count(): \n",
    "\taction = select_action(frames_storage)\n",
    "\tobservation, reward, terminated, truncated, _ = env.step(action.item()) \n",
    "\t# rewards_agg += reward \n",
    "\treward = torch.tensor([reward], device=device)\n",
    "\n",
    "\tif terminated: \n",
    "\t\tnext_state = None \n",
    "\telse: \n",
    "\t\tobservation = torchvision.transforms.Grayscale()(torch.from_numpy(observation).permute(2, 0, 1)).view(210, 160).tolist()\n",
    "\t\tnext_state.append(observation)#torch.tensor(observation, dtype=torch.float32, device=device).unsqueeze(0) \n",
    "\n",
    "\tmemory.push(frames_storage, action, next_state, reward) \n",
    "\n",
    "\tif not terminated: \n",
    "\t\tframes_storage = next_state.copy()\n",
    "\n",
    "\toptimize_model() \n",
    "\n",
    "\ttarget_net_state_dict = target_net.state_dict() \n",
    "\tpolicy_net_state_dict = policy_net.state_dict() \n",
    "\tfor key in policy_net_state_dict: \n",
    "\t\ttarget_net_state_dict[key] = policy_net_state_dict[key]*tau + target_net_state_dict[key]*(1-tau)\n",
    "\n",
    "\ttarget_net.load_state_dict(target_net_state_dict) \n",
    "\n",
    "\tif terminated or truncated: \n",
    "\t\t# episode_duration.append(t + 1) \n",
    "\t\t# plot_durations() \n",
    "\t\tstate, info = env.reset() \n",
    "\t\tstate = torchvision.transforms.Grayscale()(torch.from_numpy(state).permute(2, 0, 1)).view(210, 160).tolist()\n",
    "\t\tframes_storage = deque([state for _ in range(4)], maxlen=4)\n",
    "\t\tnext_state = deque([state for _ in range(4)], maxlen=4)\n",
    "\t\t# break\n",
    "\trewards.append(reward.item())\n",
    "\t# plot_durations()\n",
    "\tloop.set_description(f'Iterations {i_episode+1}/{num_episodes}')\n",
    "\tloop.set_postfix(reward=reward.item())\n",
    "\n",
    "print('Complete')\n",
    "plot_durations(show_result=True) \n",
    "plt.ioff() \n",
    "plt.show()"
   ]
  },
  {
   "cell_type": "code",
   "execution_count": 7,
   "metadata": {},
   "outputs": [
    {
     "data": {
      "text/plain": [
       "[<matplotlib.lines.Line2D at 0x1a6eafbbdf0>]"
      ]
     },
     "execution_count": 7,
     "metadata": {},
     "output_type": "execute_result"
    },
    {
     "data": {
      "image/png": "[encoded data removed]",
      "text/plain": [
       "<Figure size 640x480 with 1 Axes>"
      ]
     },
     "metadata": {},
     "output_type": "display_data"
    }
   ],
   "source": [
    "plt.plot(rewards)"
   ]
  }
 ],
 "metadata": {
  "kernelspec": {
   "display_name": "AI_310",
   "language": "python",
   "name": "python3"
  },
  "language_info": {
   "codemirror_mode": {
    "name": "ipython",
    "version": 3
   },
   "file_extension": ".py",
   "mimetype": "text/x-python",
   "name": "python",
   "nbconvert_exporter": "python",
   "pygments_lexer": "ipython3",
   "version": "3.10.10"
  },
  "orig_nbformat": 4
 },
 "nbformat": 4,
 "nbformat_minor": 2
}
