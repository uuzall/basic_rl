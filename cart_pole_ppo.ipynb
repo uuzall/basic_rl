{
 "cells": [
  {
   "cell_type": "code",
   "execution_count": 1,
   "metadata": {},
   "outputs": [],
   "source": [
    "import gymnasium as gym\n",
    "import math\n",
    "import random\n",
    "import matplotlib\n",
    "import matplotlib.pyplot as plt\n",
    "from collections import namedtuple, deque\n",
    "from itertools import count\n",
    "import numpy as np \n",
    "\n",
    "import torch\n",
    "import torch.nn as nn\n",
    "import torch.optim as optim\n",
    "import torch.nn.functional as F\n",
    "import torchvision\n",
    "\n",
    "from tqdm import tqdm, trange\n",
    "import wandb\n",
    "\n",
    "# set up matplotlib\n",
    "is_ipython = 'inline' in matplotlib.get_backend()\n",
    "if is_ipython:\n",
    "\tfrom IPython import display\n",
    "\n",
    "plt.ion()\n",
    "\n",
    "# if GPU is to be used\n",
    "device = torch.device(\"cuda\" if torch.cuda.is_available() else \"cpu\")"
   ]
  },
  {
   "cell_type": "code",
   "execution_count": 2,
   "metadata": {},
   "outputs": [],
   "source": [
    "def make_env(env_id, seed, idx, run_name): \n",
    "\tdef thunk(): \n",
    "\t\tenv = gym.make(env_id, render_mode='rgb_array')\n",
    "\t\tenv = gym.wrappers.RecordEpisodeStatistics(env) \n",
    "\t\tenv = gym.wrappers.RecordVideo(env, f'videos/ppo/cartpole.mp4')\n",
    "\t\t# env.seed(seed) \n",
    "\t\tenv.action_space.seed(seed) \n",
    "\t\tenv.observation_space.seed(seed) \n",
    "\t\treturn env \n",
    "\treturn thunk() "
   ]
  },
  {
   "cell_type": "code",
   "execution_count": 3,
   "metadata": {},
   "outputs": [],
   "source": [
    "def layer_init(layer, std=np.sqrt(2), bias_const=0.0): \n",
    "\tnn.init.orthogonal_(layer.weight, std) \n",
    "\tnn.init.constant_(layer.bias, bias_const)\n",
    "\treturn layer \n",
    "\n",
    "class Agent(nn.Module): \n",
    "\tdef __init__(self, envs): \n",
    "\t\tsuper().__init__() \n",
    "\t\tself.critic = nn.Sequential(\n",
    "\t\t\tlayer_init(nn.Linear(np.array(envs.single_observation_space.shape).prod(), 64)), \n",
    "\t\t\tnn.Tanh(), \n",
    "\t\t\tlayer_init(nn.Linear(64, 64)), \n",
    "\t\t\tnn.Tanh(), \n",
    "\t\t\tlayer_init(nn.Linear(64, 1), std=1.0)\n",
    "\t\t)\n",
    "\n",
    "\t\tself.actor = nn.Sequential(\n",
    "\t\t\tlayer_init(nn.Linear(np.array(envs.single_observation_space.shape).prod(), 64)), \n",
    "\t\t\tnn.Tanh(), \n",
    "\t\t\tlayer_init(nn.Linear(64, 64)), \n",
    "\t\t\tnn.Tanh(), \n",
    "\t\t\tlayer_init(nn.Linear(64, envs.single_action_space.n), std=0.01)\n",
    "\t\t)\n",
    "\n",
    "\tdef get_value(self, x): \n",
    "\t\treturn self.critic(x) \n",
    "\t\n",
    "\tdef get_action_and_value(self, x, action=None): \n",
    "\t\tlogits = self.actor(x) \n",
    "\t\tprobs = torch.distributions.categorical.Categorical(logits=logits) \n",
    "\t\tif action is None: \n",
    "\t\t\taction = probs.sample() \n",
    "\t\treturn action, probs.log_prob(action), probs.entropy(), self.critic(x) "
   ]
  },
  {
   "cell_type": "code",
   "execution_count": 4,
   "metadata": {},
   "outputs": [
    {
     "name": "stderr",
     "output_type": "stream",
     "text": [
      "Failed to detect the name of this notebook, you can set it manually with the WANDB_NOTEBOOK_NAME environment variable to enable code saving.\n",
      "\u001b[34m\u001b[1mwandb\u001b[0m: Currently logged in as: \u001b[33muuzall\u001b[0m. Use \u001b[1m`wandb login --relogin`\u001b[0m to force relogin\n"
     ]
    },
    {
     "data": {
      "text/html": [
       "Tracking run with wandb version 0.15.4"
      ],
      "text/plain": [
       "<IPython.core.display.HTML object>"
      ]
     },
     "metadata": {},
     "output_type": "display_data"
    },
    {
     "data": {
      "text/html": [
       "Run data is saved locally in <code>c:\\Users\\Asus\\OneDrive\\Programming\\basic_rl\\wandb\\run-20230626_162550-gd5p4t0c</code>"
      ],
      "text/plain": [
       "<IPython.core.display.HTML object>"
      ]
     },
     "metadata": {},
     "output_type": "display_data"
    },
    {
     "data": {
      "text/html": [
       "Syncing run <strong><a href='https://wandb.ai/uuzall/CartPole%20PPO/runs/gd5p4t0c' target=\"_blank\">the first</a></strong> to <a href='https://wandb.ai/uuzall/CartPole%20PPO' target=\"_blank\">Weights & Biases</a> (<a href='https://wandb.me/run' target=\"_blank\">docs</a>)<br/>"
      ],
      "text/plain": [
       "<IPython.core.display.HTML object>"
      ]
     },
     "metadata": {},
     "output_type": "display_data"
    },
    {
     "data": {
      "text/html": [
       " View project at <a href='https://wandb.ai/uuzall/CartPole%20PPO' target=\"_blank\">https://wandb.ai/uuzall/CartPole%20PPO</a>"
      ],
      "text/plain": [
       "<IPython.core.display.HTML object>"
      ]
     },
     "metadata": {},
     "output_type": "display_data"
    },
    {
     "data": {
      "text/html": [
       " View run at <a href='https://wandb.ai/uuzall/CartPole%20PPO/runs/gd5p4t0c' target=\"_blank\">https://wandb.ai/uuzall/CartPole%20PPO/runs/gd5p4t0c</a>"
      ],
      "text/plain": [
       "<IPython.core.display.HTML object>"
      ]
     },
     "metadata": {},
     "output_type": "display_data"
    },
    {
     "data": {
      "text/html": [
       "<button onClick=\"this.nextSibling.style.display='block';this.style.display='none';\">Display W&B run</button><iframe src='https://wandb.ai/uuzall/CartPole%20PPO/runs/gd5p4t0c?jupyter=true' style='border:none;width:100%;height:420px;display:none;'></iframe>"
      ],
      "text/plain": [
       "<wandb.sdk.wandb_run.Run at 0x293262d7d00>"
      ]
     },
     "execution_count": 4,
     "metadata": {},
     "output_type": "execute_result"
    }
   ],
   "source": [
    "wandb.init(\n",
    "    project='CartPole PPO', \n",
    "    entity='uuzall', \n",
    "    sync_tensorboard=True, \n",
    "    name='the first', \n",
    "    monitor_gym=True, \n",
    "    save_code=True,\n",
    ")"
   ]
  },
  {
   "cell_type": "code",
   "execution_count": 4,
   "metadata": {},
   "outputs": [
    {
     "ename": "AttributeError",
     "evalue": "module 'torch.utils' has no attribute 'tensorboard'",
     "output_type": "error",
     "traceback": [
      "\u001b[1;31m---------------------------------------------------------------------------\u001b[0m",
      "\u001b[1;31mAttributeError\u001b[0m                            Traceback (most recent call last)",
      "Cell \u001b[1;32mIn[4], line 1\u001b[0m\n\u001b[1;32m----> 1\u001b[0m writer \u001b[39m=\u001b[39m torch\u001b[39m.\u001b[39;49mutils\u001b[39m.\u001b[39;49mtensorboard\u001b[39m.\u001b[39mSummaryWriter(\u001b[39mf\u001b[39m\u001b[39m'\u001b[39m\u001b[39mruns/the first\u001b[39m\u001b[39m'\u001b[39m)\n",
      "\u001b[1;31mAttributeError\u001b[0m: module 'torch.utils' has no attribute 'tensorboard'"
     ]
    }
   ],
   "source": [
    "writer = torch.utils.tensorboard.SummaryWriter(f'runs/the first')"
   ]
  },
  {
   "cell_type": "code",
   "execution_count": 5,
   "metadata": {},
   "outputs": [
    {
     "name": "stderr",
     "output_type": "stream",
     "text": [
      "x:\\python_environments\\AI_310\\lib\\site-packages\\gymnasium\\wrappers\\record_video.py:87: UserWarning: \u001b[33mWARN: Overwriting existing videos at c:\\Users\\Asus\\OneDrive\\Programming\\basic_rl\\videos\\ppo\\cartpole.mp4 folder (try specifying a different `video_folder` for the `RecordVideo` wrapper if this is not desired)\u001b[0m\n",
      "  logger.warn(\n"
     ]
    }
   ],
   "source": [
    "seed = 1337 \n",
    "num_envs = 4\n",
    "num_steps = 128\n",
    "# temp = [make_env('CartPole-v1', seed + i, i, 'the first') for i in range(4)]\n",
    "\n",
    "envs = gym.vector.SyncVectorEnv([\n",
    "    lambda: make_env('CartPole-v1', seed+0, 0, 'the first'), \n",
    "    lambda: make_env('CartPole-v1', seed+1, 1, 'the first'), \n",
    "    lambda: make_env('CartPole-v1', seed+2, 2, 'the first'), \n",
    "    lambda: make_env('CartPole-v1', seed+3, 3, 'the first')\n",
    "])\n",
    "\n",
    "agent = Agent(envs).to(device) \n",
    "optimizer = optim.Adam(agent.parameters(), lr=2.5e-4, eps=1e-5)"
   ]
  },
  {
   "cell_type": "code",
   "execution_count": 6,
   "metadata": {},
   "outputs": [],
   "source": [
    "obs = torch.zeros((num_steps, num_envs) + envs.single_observation_space.shape).to(device)\n",
    "actions = torch.zeros((num_steps, num_envs) + envs.single_action_space.shape).to(device) \n",
    "logprobs = torch.zeros((num_steps, num_envs)).to(device) \n",
    "rewards = torch.zeros((num_steps, num_envs)).to(device) \n",
    "dones = torch.zeros((num_steps, num_envs)).to(device) \n",
    "values = torch.zeros((num_steps, num_envs)).to(device) "
   ]
  },
  {
   "cell_type": "code",
   "execution_count": 11,
   "metadata": {},
   "outputs": [
    {
     "data": {
      "text/plain": [
       "(128, 4, ())"
      ]
     },
     "execution_count": 11,
     "metadata": {},
     "output_type": "execute_result"
    }
   ],
   "source": [
    "num_steps, num_envs, envs.single_action_space.shape"
   ]
  },
  {
   "cell_type": "code",
   "execution_count": 8,
   "metadata": {},
   "outputs": [
    {
     "name": "stderr",
     "output_type": "stream",
     "text": [
      "  0%|          | 0/4096 [00:02<?, ?it/s]"
     ]
    },
    {
     "name": "stdout",
     "output_type": "stream",
     "text": [
      "Moviepy - Building video c:\\Users\\Asus\\OneDrive\\Programming\\basic_rl\\videos\\ppo\\cartpole.mp4\\rl-video-episode-0.mp4.\n",
      "Moviepy - Writing video c:\\Users\\Asus\\OneDrive\\Programming\\basic_rl\\videos\\ppo\\cartpole.mp4\\rl-video-episode-0.mp4\n",
      "\n"
     ]
    },
    {
     "name": "stderr",
     "output_type": "stream",
     "text": [
      "  0%|          | 0/4096 [00:02<?, ?it/s]"
     ]
    },
    {
     "name": "stdout",
     "output_type": "stream",
     "text": [
      "Moviepy - Done !\n",
      "Moviepy - video ready c:\\Users\\Asus\\OneDrive\\Programming\\basic_rl\\videos\\ppo\\cartpole.mp4\\rl-video-episode-0.mp4\n",
      "Moviepy - Building video c:\\Users\\Asus\\OneDrive\\Programming\\basic_rl\\videos\\ppo\\cartpole.mp4\\rl-video-episode-0.mp4.\n",
      "Moviepy - Writing video c:\\Users\\Asus\\OneDrive\\Programming\\basic_rl\\videos\\ppo\\cartpole.mp4\\rl-video-episode-0.mp4\n",
      "\n"
     ]
    },
    {
     "name": "stderr",
     "output_type": "stream",
     "text": [
      "  0%|          | 0/4096 [00:02<?, ?it/s]"
     ]
    },
    {
     "name": "stdout",
     "output_type": "stream",
     "text": [
      "Moviepy - Done !\n",
      "Moviepy - video ready c:\\Users\\Asus\\OneDrive\\Programming\\basic_rl\\videos\\ppo\\cartpole.mp4\\rl-video-episode-0.mp4\n",
      "Moviepy - Building video c:\\Users\\Asus\\OneDrive\\Programming\\basic_rl\\videos\\ppo\\cartpole.mp4\\rl-video-episode-0.mp4.\n",
      "Moviepy - Writing video c:\\Users\\Asus\\OneDrive\\Programming\\basic_rl\\videos\\ppo\\cartpole.mp4\\rl-video-episode-0.mp4\n",
      "\n"
     ]
    },
    {
     "name": "stderr",
     "output_type": "stream",
     "text": [
      "  0%|          | 0/4096 [00:03<?, ?it/s]"
     ]
    },
    {
     "name": "stdout",
     "output_type": "stream",
     "text": [
      "Moviepy - Done !\n",
      "Moviepy - video ready c:\\Users\\Asus\\OneDrive\\Programming\\basic_rl\\videos\\ppo\\cartpole.mp4\\rl-video-episode-0.mp4\n"
     ]
    },
    {
     "name": "stderr",
     "output_type": "stream",
     "text": [
      "  0%|          | 0/4096 [00:03<?, ?it/s]"
     ]
    },
    {
     "name": "stdout",
     "output_type": "stream",
     "text": [
      "Moviepy - Building video c:\\Users\\Asus\\OneDrive\\Programming\\basic_rl\\videos\\ppo\\cartpole.mp4\\rl-video-episode-1.mp4.\n",
      "Moviepy - Writing video c:\\Users\\Asus\\OneDrive\\Programming\\basic_rl\\videos\\ppo\\cartpole.mp4\\rl-video-episode-1.mp4\n",
      "\n"
     ]
    },
    {
     "name": "stderr",
     "output_type": "stream",
     "text": [
      "  0%|          | 0/4096 [00:03<?, ?it/s]"
     ]
    },
    {
     "name": "stdout",
     "output_type": "stream",
     "text": [
      "Moviepy - Done !\n",
      "Moviepy - video ready c:\\Users\\Asus\\OneDrive\\Programming\\basic_rl\\videos\\ppo\\cartpole.mp4\\rl-video-episode-1.mp4\n",
      "Moviepy - Building video c:\\Users\\Asus\\OneDrive\\Programming\\basic_rl\\videos\\ppo\\cartpole.mp4\\rl-video-episode-0.mp4.\n"
     ]
    },
    {
     "name": "stderr",
     "output_type": "stream",
     "text": [
      "  0%|          | 0/4096 [00:03<?, ?it/s]"
     ]
    },
    {
     "name": "stdout",
     "output_type": "stream",
     "text": [
      "Moviepy - Writing video c:\\Users\\Asus\\OneDrive\\Programming\\basic_rl\\videos\\ppo\\cartpole.mp4\\rl-video-episode-0.mp4\n",
      "\n"
     ]
    },
    {
     "name": "stderr",
     "output_type": "stream",
     "text": [
      "  0%|          | 0/4096 [00:03<?, ?it/s]"
     ]
    },
    {
     "name": "stdout",
     "output_type": "stream",
     "text": [
      "Moviepy - Done !\n",
      "Moviepy - video ready c:\\Users\\Asus\\OneDrive\\Programming\\basic_rl\\videos\\ppo\\cartpole.mp4\\rl-video-episode-0.mp4\n"
     ]
    },
    {
     "name": "stderr",
     "output_type": "stream",
     "text": [
      "  0%|          | 0/4096 [00:03<?, ?it/s]"
     ]
    },
    {
     "name": "stdout",
     "output_type": "stream",
     "text": [
      "Moviepy - Building video c:\\Users\\Asus\\OneDrive\\Programming\\basic_rl\\videos\\ppo\\cartpole.mp4\\rl-video-episode-1.mp4.\n",
      "Moviepy - Writing video c:\\Users\\Asus\\OneDrive\\Programming\\basic_rl\\videos\\ppo\\cartpole.mp4\\rl-video-episode-1.mp4\n",
      "\n"
     ]
    },
    {
     "name": "stderr",
     "output_type": "stream",
     "text": [
      "  0%|          | 0/4096 [00:03<?, ?it/s]"
     ]
    },
    {
     "name": "stdout",
     "output_type": "stream",
     "text": [
      "Moviepy - Done !\n",
      "Moviepy - video ready c:\\Users\\Asus\\OneDrive\\Programming\\basic_rl\\videos\\ppo\\cartpole.mp4\\rl-video-episode-1.mp4\n",
      "Moviepy - Building video c:\\Users\\Asus\\OneDrive\\Programming\\basic_rl\\videos\\ppo\\cartpole.mp4\\rl-video-episode-1.mp4.\n",
      "Moviepy - Writing video c:\\Users\\Asus\\OneDrive\\Programming\\basic_rl\\videos\\ppo\\cartpole.mp4\\rl-video-episode-1.mp4\n",
      "\n"
     ]
    },
    {
     "name": "stderr",
     "output_type": "stream",
     "text": [
      "  0%|          | 0/4096 [00:03<?, ?it/s]"
     ]
    },
    {
     "name": "stdout",
     "output_type": "stream",
     "text": [
      "Moviepy - Done !\n",
      "Moviepy - video ready c:\\Users\\Asus\\OneDrive\\Programming\\basic_rl\\videos\\ppo\\cartpole.mp4\\rl-video-episode-1.mp4\n"
     ]
    },
    {
     "name": "stderr",
     "output_type": "stream",
     "text": [
      "  0%|          | 0/4096 [00:03<?, ?it/s]"
     ]
    },
    {
     "name": "stdout",
     "output_type": "stream",
     "text": [
      "Moviepy - Building video c:\\Users\\Asus\\OneDrive\\Programming\\basic_rl\\videos\\ppo\\cartpole.mp4\\rl-video-episode-1.mp4.\n",
      "Moviepy - Writing video c:\\Users\\Asus\\OneDrive\\Programming\\basic_rl\\videos\\ppo\\cartpole.mp4\\rl-video-episode-1.mp4\n",
      "\n"
     ]
    },
    {
     "name": "stderr",
     "output_type": "stream",
     "text": [
      "  0%|          | 0/4096 [00:03<?, ?it/s]"
     ]
    },
    {
     "name": "stdout",
     "output_type": "stream",
     "text": [
      "Moviepy - Done !\n",
      "Moviepy - video ready c:\\Users\\Asus\\OneDrive\\Programming\\basic_rl\\videos\\ppo\\cartpole.mp4\\rl-video-episode-1.mp4\n"
     ]
    },
    {
     "name": "stderr",
     "output_type": "stream",
     "text": [
      "  0%|          | 1/4096 [00:04<5:28:06,  4.81s/it]"
     ]
    },
    {
     "name": "stdout",
     "output_type": "stream",
     "text": [
      "Moviepy - Building video c:\\Users\\Asus\\OneDrive\\Programming\\basic_rl\\videos\\ppo\\cartpole.mp4\\rl-video-episode-8.mp4.\n",
      "Moviepy - Writing video c:\\Users\\Asus\\OneDrive\\Programming\\basic_rl\\videos\\ppo\\cartpole.mp4\\rl-video-episode-8.mp4\n",
      "\n"
     ]
    },
    {
     "name": "stderr",
     "output_type": "stream",
     "text": [
      "  0%|          | 1/4096 [00:05<5:28:06,  4.81s/it]"
     ]
    },
    {
     "name": "stdout",
     "output_type": "stream",
     "text": [
      "Moviepy - Done !\n",
      "Moviepy - video ready c:\\Users\\Asus\\OneDrive\\Programming\\basic_rl\\videos\\ppo\\cartpole.mp4\\rl-video-episode-8.mp4\n",
      "Moviepy - Building video c:\\Users\\Asus\\OneDrive\\Programming\\basic_rl\\videos\\ppo\\cartpole.mp4\\rl-video-episode-8.mp4.\n",
      "Moviepy - Writing video c:\\Users\\Asus\\OneDrive\\Programming\\basic_rl\\videos\\ppo\\cartpole.mp4\\rl-video-episode-8.mp4\n",
      "\n"
     ]
    },
    {
     "name": "stderr",
     "output_type": "stream",
     "text": [
      "  0%|          | 1/4096 [00:05<5:28:06,  4.81s/it]"
     ]
    },
    {
     "name": "stdout",
     "output_type": "stream",
     "text": [
      "Moviepy - Done !\n",
      "Moviepy - video ready c:\\Users\\Asus\\OneDrive\\Programming\\basic_rl\\videos\\ppo\\cartpole.mp4\\rl-video-episode-8.mp4\n"
     ]
    },
    {
     "name": "stderr",
     "output_type": "stream",
     "text": [
      "  0%|          | 1/4096 [00:05<5:28:06,  4.81s/it]"
     ]
    },
    {
     "name": "stdout",
     "output_type": "stream",
     "text": [
      "Moviepy - Building video c:\\Users\\Asus\\OneDrive\\Programming\\basic_rl\\videos\\ppo\\cartpole.mp4\\rl-video-episode-8.mp4.\n",
      "Moviepy - Writing video c:\\Users\\Asus\\OneDrive\\Programming\\basic_rl\\videos\\ppo\\cartpole.mp4\\rl-video-episode-8.mp4\n",
      "\n"
     ]
    },
    {
     "name": "stderr",
     "output_type": "stream",
     "text": [
      "  0%|          | 1/4096 [00:05<5:28:06,  4.81s/it]"
     ]
    },
    {
     "name": "stdout",
     "output_type": "stream",
     "text": [
      "Moviepy - Done !\n",
      "Moviepy - video ready c:\\Users\\Asus\\OneDrive\\Programming\\basic_rl\\videos\\ppo\\cartpole.mp4\\rl-video-episode-8.mp4\n"
     ]
    },
    {
     "name": "stderr",
     "output_type": "stream",
     "text": [
      "  0%|          | 2/4096 [00:06<3:15:46,  2.87s/it]"
     ]
    },
    {
     "name": "stdout",
     "output_type": "stream",
     "text": [
      "Moviepy - Building video c:\\Users\\Asus\\OneDrive\\Programming\\basic_rl\\videos\\ppo\\cartpole.mp4\\rl-video-episode-8.mp4.\n",
      "Moviepy - Writing video c:\\Users\\Asus\\OneDrive\\Programming\\basic_rl\\videos\\ppo\\cartpole.mp4\\rl-video-episode-8.mp4\n",
      "\n"
     ]
    },
    {
     "name": "stderr",
     "output_type": "stream",
     "text": [
      "  0%|          | 2/4096 [00:06<3:15:46,  2.87s/it]"
     ]
    },
    {
     "name": "stdout",
     "output_type": "stream",
     "text": [
      "Moviepy - Done !\n",
      "Moviepy - video ready c:\\Users\\Asus\\OneDrive\\Programming\\basic_rl\\videos\\ppo\\cartpole.mp4\\rl-video-episode-8.mp4\n"
     ]
    },
    {
     "name": "stderr",
     "output_type": "stream",
     "text": [
      "  0%|          | 5/4096 [00:09<1:33:40,  1.37s/it]"
     ]
    },
    {
     "name": "stdout",
     "output_type": "stream",
     "text": [
      "Moviepy - Building video c:\\Users\\Asus\\OneDrive\\Programming\\basic_rl\\videos\\ppo\\cartpole.mp4\\rl-video-episode-27.mp4.\n",
      "Moviepy - Writing video c:\\Users\\Asus\\OneDrive\\Programming\\basic_rl\\videos\\ppo\\cartpole.mp4\\rl-video-episode-27.mp4\n",
      "\n"
     ]
    },
    {
     "name": "stderr",
     "output_type": "stream",
     "text": [
      "  0%|          | 5/4096 [00:09<1:33:40,  1.37s/it]"
     ]
    },
    {
     "name": "stdout",
     "output_type": "stream",
     "text": [
      "Moviepy - Done !\n",
      "Moviepy - video ready c:\\Users\\Asus\\OneDrive\\Programming\\basic_rl\\videos\\ppo\\cartpole.mp4\\rl-video-episode-27.mp4\n"
     ]
    },
    {
     "name": "stderr",
     "output_type": "stream",
     "text": [
      "  0%|          | 6/4096 [00:10<1:31:12,  1.34s/it]"
     ]
    },
    {
     "name": "stdout",
     "output_type": "stream",
     "text": [
      "Moviepy - Building video c:\\Users\\Asus\\OneDrive\\Programming\\basic_rl\\videos\\ppo\\cartpole.mp4\\rl-video-episode-27.mp4.\n",
      "Moviepy - Writing video c:\\Users\\Asus\\OneDrive\\Programming\\basic_rl\\videos\\ppo\\cartpole.mp4\\rl-video-episode-27.mp4\n",
      "\n"
     ]
    },
    {
     "name": "stderr",
     "output_type": "stream",
     "text": [
      "  0%|          | 6/4096 [00:10<1:31:12,  1.34s/it]"
     ]
    },
    {
     "name": "stdout",
     "output_type": "stream",
     "text": [
      "Moviepy - Done !\n",
      "Moviepy - video ready c:\\Users\\Asus\\OneDrive\\Programming\\basic_rl\\videos\\ppo\\cartpole.mp4\\rl-video-episode-27.mp4\n"
     ]
    },
    {
     "name": "stderr",
     "output_type": "stream",
     "text": [
      "  0%|          | 6/4096 [00:11<1:31:12,  1.34s/it]"
     ]
    },
    {
     "name": "stdout",
     "output_type": "stream",
     "text": [
      "Moviepy - Building video c:\\Users\\Asus\\OneDrive\\Programming\\basic_rl\\videos\\ppo\\cartpole.mp4\\rl-video-episode-27.mp4.\n",
      "Moviepy - Writing video c:\\Users\\Asus\\OneDrive\\Programming\\basic_rl\\videos\\ppo\\cartpole.mp4\\rl-video-episode-27.mp4\n",
      "\n"
     ]
    },
    {
     "name": "stderr",
     "output_type": "stream",
     "text": [
      "  0%|          | 6/4096 [00:11<1:31:12,  1.34s/it]"
     ]
    },
    {
     "name": "stdout",
     "output_type": "stream",
     "text": [
      "Moviepy - Done !\n",
      "Moviepy - video ready c:\\Users\\Asus\\OneDrive\\Programming\\basic_rl\\videos\\ppo\\cartpole.mp4\\rl-video-episode-27.mp4\n",
      "Moviepy - Building video c:\\Users\\Asus\\OneDrive\\Programming\\basic_rl\\videos\\ppo\\cartpole.mp4\\rl-video-episode-27.mp4.\n",
      "Moviepy - Writing video c:\\Users\\Asus\\OneDrive\\Programming\\basic_rl\\videos\\ppo\\cartpole.mp4\\rl-video-episode-27.mp4\n",
      "\n"
     ]
    },
    {
     "name": "stderr",
     "output_type": "stream",
     "text": [
      "  0%|          | 6/4096 [00:11<1:31:12,  1.34s/it]"
     ]
    },
    {
     "name": "stdout",
     "output_type": "stream",
     "text": [
      "Moviepy - Done !\n",
      "Moviepy - video ready c:\\Users\\Asus\\OneDrive\\Programming\\basic_rl\\videos\\ppo\\cartpole.mp4\\rl-video-episode-27.mp4\n"
     ]
    },
    {
     "name": "stderr",
     "output_type": "stream",
     "text": [
      "  0%|          | 17/4096 [00:22<1:04:59,  1.05it/s]"
     ]
    },
    {
     "name": "stdout",
     "output_type": "stream",
     "text": [
      "Moviepy - Building video c:\\Users\\Asus\\OneDrive\\Programming\\basic_rl\\videos\\ppo\\cartpole.mp4\\rl-video-episode-64.mp4.\n",
      "Moviepy - Writing video c:\\Users\\Asus\\OneDrive\\Programming\\basic_rl\\videos\\ppo\\cartpole.mp4\\rl-video-episode-64.mp4\n",
      "\n"
     ]
    },
    {
     "name": "stderr",
     "output_type": "stream",
     "text": [
      "  0%|          | 17/4096 [00:22<1:04:59,  1.05it/s]"
     ]
    },
    {
     "name": "stdout",
     "output_type": "stream",
     "text": [
      "Moviepy - Done !\n",
      "Moviepy - video ready c:\\Users\\Asus\\OneDrive\\Programming\\basic_rl\\videos\\ppo\\cartpole.mp4\\rl-video-episode-64.mp4\n"
     ]
    },
    {
     "name": "stderr",
     "output_type": "stream",
     "text": [
      "  0%|          | 18/4096 [00:23<1:16:28,  1.13s/it]"
     ]
    },
    {
     "name": "stdout",
     "output_type": "stream",
     "text": [
      "Moviepy - Building video c:\\Users\\Asus\\OneDrive\\Programming\\basic_rl\\videos\\ppo\\cartpole.mp4\\rl-video-episode-64.mp4.\n",
      "Moviepy - Writing video c:\\Users\\Asus\\OneDrive\\Programming\\basic_rl\\videos\\ppo\\cartpole.mp4\\rl-video-episode-64.mp4\n",
      "\n"
     ]
    },
    {
     "name": "stderr",
     "output_type": "stream",
     "text": [
      "  0%|          | 18/4096 [00:23<1:16:28,  1.13s/it]"
     ]
    },
    {
     "name": "stdout",
     "output_type": "stream",
     "text": [
      "Moviepy - Done !\n"
     ]
    },
    {
     "name": "stderr",
     "output_type": "stream",
     "text": [
      "  0%|          | 18/4096 [00:23<1:16:28,  1.13s/it]"
     ]
    },
    {
     "name": "stdout",
     "output_type": "stream",
     "text": [
      "Moviepy - video ready c:\\Users\\Asus\\OneDrive\\Programming\\basic_rl\\videos\\ppo\\cartpole.mp4\\rl-video-episode-64.mp4\n"
     ]
    },
    {
     "name": "stderr",
     "output_type": "stream",
     "text": [
      "  0%|          | 19/4096 [00:24<1:17:00,  1.13s/it]"
     ]
    },
    {
     "name": "stdout",
     "output_type": "stream",
     "text": [
      "Moviepy - Building video c:\\Users\\Asus\\OneDrive\\Programming\\basic_rl\\videos\\ppo\\cartpole.mp4\\rl-video-episode-64.mp4.\n",
      "Moviepy - Writing video c:\\Users\\Asus\\OneDrive\\Programming\\basic_rl\\videos\\ppo\\cartpole.mp4\\rl-video-episode-64.mp4\n",
      "\n"
     ]
    },
    {
     "name": "stderr",
     "output_type": "stream",
     "text": [
      "  0%|          | 19/4096 [00:25<1:17:00,  1.13s/it]"
     ]
    },
    {
     "name": "stdout",
     "output_type": "stream",
     "text": [
      "Moviepy - Done !\n",
      "Moviepy - video ready c:\\Users\\Asus\\OneDrive\\Programming\\basic_rl\\videos\\ppo\\cartpole.mp4\\rl-video-episode-64.mp4\n"
     ]
    },
    {
     "name": "stderr",
     "output_type": "stream",
     "text": [
      "  0%|          | 20/4096 [00:26<1:23:16,  1.23s/it]"
     ]
    },
    {
     "name": "stdout",
     "output_type": "stream",
     "text": [
      "Moviepy - Building video c:\\Users\\Asus\\OneDrive\\Programming\\basic_rl\\videos\\ppo\\cartpole.mp4\\rl-video-episode-64.mp4.\n",
      "Moviepy - Writing video c:\\Users\\Asus\\OneDrive\\Programming\\basic_rl\\videos\\ppo\\cartpole.mp4\\rl-video-episode-64.mp4\n",
      "\n"
     ]
    },
    {
     "name": "stderr",
     "output_type": "stream",
     "text": [
      "  0%|          | 20/4096 [00:26<1:23:16,  1.23s/it]"
     ]
    },
    {
     "name": "stdout",
     "output_type": "stream",
     "text": [
      "Moviepy - Done !\n",
      "Moviepy - video ready c:\\Users\\Asus\\OneDrive\\Programming\\basic_rl\\videos\\ppo\\cartpole.mp4\\rl-video-episode-64.mp4\n"
     ]
    },
    {
     "name": "stderr",
     "output_type": "stream",
     "text": [
      "  1%|          | 42/4096 [00:48<1:18:20,  1.16s/it]"
     ]
    },
    {
     "name": "stdout",
     "output_type": "stream",
     "text": [
      "Moviepy - Building video c:\\Users\\Asus\\OneDrive\\Programming\\basic_rl\\videos\\ppo\\cartpole.mp4\\rl-video-episode-125.mp4.\n",
      "Moviepy - Writing video c:\\Users\\Asus\\OneDrive\\Programming\\basic_rl\\videos\\ppo\\cartpole.mp4\\rl-video-episode-125.mp4\n",
      "\n"
     ]
    },
    {
     "name": "stderr",
     "output_type": "stream",
     "text": [
      "  1%|          | 42/4096 [00:48<1:18:20,  1.16s/it]"
     ]
    },
    {
     "name": "stdout",
     "output_type": "stream",
     "text": [
      "Moviepy - Done !\n",
      "Moviepy - video ready c:\\Users\\Asus\\OneDrive\\Programming\\basic_rl\\videos\\ppo\\cartpole.mp4\\rl-video-episode-125.mp4\n"
     ]
    },
    {
     "name": "stderr",
     "output_type": "stream",
     "text": [
      "  1%|          | 43/4096 [00:50<1:22:14,  1.22s/it]"
     ]
    },
    {
     "name": "stdout",
     "output_type": "stream",
     "text": [
      "Moviepy - Building video c:\\Users\\Asus\\OneDrive\\Programming\\basic_rl\\videos\\ppo\\cartpole.mp4\\rl-video-episode-125.mp4.\n",
      "Moviepy - Writing video c:\\Users\\Asus\\OneDrive\\Programming\\basic_rl\\videos\\ppo\\cartpole.mp4\\rl-video-episode-125.mp4\n",
      "\n"
     ]
    },
    {
     "name": "stderr",
     "output_type": "stream",
     "text": [
      "  1%|          | 43/4096 [00:50<1:22:14,  1.22s/it]"
     ]
    },
    {
     "name": "stdout",
     "output_type": "stream",
     "text": [
      "Moviepy - Done !\n",
      "Moviepy - video ready c:\\Users\\Asus\\OneDrive\\Programming\\basic_rl\\videos\\ppo\\cartpole.mp4\\rl-video-episode-125.mp4\n"
     ]
    },
    {
     "name": "stderr",
     "output_type": "stream",
     "text": [
      "  1%|          | 45/4096 [00:53<1:24:21,  1.25s/it]"
     ]
    },
    {
     "name": "stdout",
     "output_type": "stream",
     "text": [
      "Moviepy - Building video c:\\Users\\Asus\\OneDrive\\Programming\\basic_rl\\videos\\ppo\\cartpole.mp4\\rl-video-episode-125.mp4.\n",
      "Moviepy - Writing video c:\\Users\\Asus\\OneDrive\\Programming\\basic_rl\\videos\\ppo\\cartpole.mp4\\rl-video-episode-125.mp4\n",
      "\n"
     ]
    },
    {
     "name": "stderr",
     "output_type": "stream",
     "text": [
      "  1%|          | 45/4096 [00:53<1:24:21,  1.25s/it]"
     ]
    },
    {
     "name": "stdout",
     "output_type": "stream",
     "text": [
      "Moviepy - Done !\n",
      "Moviepy - video ready c:\\Users\\Asus\\OneDrive\\Programming\\basic_rl\\videos\\ppo\\cartpole.mp4\\rl-video-episode-125.mp4\n"
     ]
    },
    {
     "name": "stderr",
     "output_type": "stream",
     "text": [
      "  1%|          | 46/4096 [00:54<1:40:27,  1.49s/it]"
     ]
    },
    {
     "name": "stdout",
     "output_type": "stream",
     "text": [
      "Moviepy - Building video c:\\Users\\Asus\\OneDrive\\Programming\\basic_rl\\videos\\ppo\\cartpole.mp4\\rl-video-episode-125.mp4.\n",
      "Moviepy - Writing video c:\\Users\\Asus\\OneDrive\\Programming\\basic_rl\\videos\\ppo\\cartpole.mp4\\rl-video-episode-125.mp4\n",
      "\n"
     ]
    },
    {
     "name": "stderr",
     "output_type": "stream",
     "text": [
      "  1%|          | 46/4096 [00:55<1:40:27,  1.49s/it]"
     ]
    },
    {
     "name": "stdout",
     "output_type": "stream",
     "text": [
      "Moviepy - Done !\n",
      "Moviepy - video ready c:\\Users\\Asus\\OneDrive\\Programming\\basic_rl\\videos\\ppo\\cartpole.mp4\\rl-video-episode-125.mp4\n"
     ]
    },
    {
     "name": "stderr",
     "output_type": "stream",
     "text": [
      "  2%|▏         | 86/4096 [01:34<1:09:41,  1.04s/it]"
     ]
    },
    {
     "name": "stdout",
     "output_type": "stream",
     "text": [
      "Moviepy - Building video c:\\Users\\Asus\\OneDrive\\Programming\\basic_rl\\videos\\ppo\\cartpole.mp4\\rl-video-episode-216.mp4.\n",
      "Moviepy - Writing video c:\\Users\\Asus\\OneDrive\\Programming\\basic_rl\\videos\\ppo\\cartpole.mp4\\rl-video-episode-216.mp4\n",
      "\n"
     ]
    },
    {
     "name": "stderr",
     "output_type": "stream",
     "text": [
      "  2%|▏         | 86/4096 [01:34<1:09:41,  1.04s/it]"
     ]
    },
    {
     "name": "stdout",
     "output_type": "stream",
     "text": [
      "Moviepy - Done !\n",
      "Moviepy - video ready c:\\Users\\Asus\\OneDrive\\Programming\\basic_rl\\videos\\ppo\\cartpole.mp4\\rl-video-episode-216.mp4\n"
     ]
    },
    {
     "name": "stderr",
     "output_type": "stream",
     "text": [
      "  2%|▏         | 88/4096 [01:36<1:13:23,  1.10s/it]"
     ]
    },
    {
     "name": "stdout",
     "output_type": "stream",
     "text": [
      "Moviepy - Building video c:\\Users\\Asus\\OneDrive\\Programming\\basic_rl\\videos\\ppo\\cartpole.mp4\\rl-video-episode-216.mp4.\n",
      "Moviepy - Writing video c:\\Users\\Asus\\OneDrive\\Programming\\basic_rl\\videos\\ppo\\cartpole.mp4\\rl-video-episode-216.mp4\n",
      "\n"
     ]
    },
    {
     "name": "stderr",
     "output_type": "stream",
     "text": [
      "  2%|▏         | 88/4096 [01:36<1:13:23,  1.10s/it]"
     ]
    },
    {
     "name": "stdout",
     "output_type": "stream",
     "text": [
      "Moviepy - Done !\n",
      "Moviepy - video ready c:\\Users\\Asus\\OneDrive\\Programming\\basic_rl\\videos\\ppo\\cartpole.mp4\\rl-video-episode-216.mp4\n"
     ]
    },
    {
     "name": "stderr",
     "output_type": "stream",
     "text": [
      "  2%|▏         | 89/4096 [01:38<1:14:38,  1.12s/it]"
     ]
    },
    {
     "name": "stdout",
     "output_type": "stream",
     "text": [
      "Moviepy - Building video c:\\Users\\Asus\\OneDrive\\Programming\\basic_rl\\videos\\ppo\\cartpole.mp4\\rl-video-episode-216.mp4.\n",
      "Moviepy - Writing video c:\\Users\\Asus\\OneDrive\\Programming\\basic_rl\\videos\\ppo\\cartpole.mp4\\rl-video-episode-216.mp4\n",
      "\n"
     ]
    },
    {
     "name": "stderr",
     "output_type": "stream",
     "text": [
      "  2%|▏         | 89/4096 [01:38<1:14:38,  1.12s/it]"
     ]
    },
    {
     "name": "stdout",
     "output_type": "stream",
     "text": [
      "Moviepy - Done !\n",
      "Moviepy - video ready c:\\Users\\Asus\\OneDrive\\Programming\\basic_rl\\videos\\ppo\\cartpole.mp4\\rl-video-episode-216.mp4\n"
     ]
    },
    {
     "name": "stderr",
     "output_type": "stream",
     "text": [
      "  2%|▏         | 94/4096 [01:43<1:08:58,  1.03s/it]"
     ]
    },
    {
     "name": "stdout",
     "output_type": "stream",
     "text": [
      "Moviepy - Building video c:\\Users\\Asus\\OneDrive\\Programming\\basic_rl\\videos\\ppo\\cartpole.mp4\\rl-video-episode-216.mp4.\n",
      "Moviepy - Writing video c:\\Users\\Asus\\OneDrive\\Programming\\basic_rl\\videos\\ppo\\cartpole.mp4\\rl-video-episode-216.mp4\n",
      "\n"
     ]
    },
    {
     "name": "stderr",
     "output_type": "stream",
     "text": [
      "  2%|▏         | 94/4096 [01:43<1:08:58,  1.03s/it]"
     ]
    },
    {
     "name": "stdout",
     "output_type": "stream",
     "text": [
      "Moviepy - Done !\n",
      "Moviepy - video ready c:\\Users\\Asus\\OneDrive\\Programming\\basic_rl\\videos\\ppo\\cartpole.mp4\\rl-video-episode-216.mp4\n"
     ]
    },
    {
     "name": "stderr",
     "output_type": "stream",
     "text": [
      "  5%|▍         | 194/4096 [03:17<58:11,  1.12it/s]  "
     ]
    },
    {
     "name": "stdout",
     "output_type": "stream",
     "text": [
      "Moviepy - Building video c:\\Users\\Asus\\OneDrive\\Programming\\basic_rl\\videos\\ppo\\cartpole.mp4\\rl-video-episode-343.mp4.\n",
      "Moviepy - Writing video c:\\Users\\Asus\\OneDrive\\Programming\\basic_rl\\videos\\ppo\\cartpole.mp4\\rl-video-episode-343.mp4\n",
      "\n"
     ]
    },
    {
     "name": "stderr",
     "output_type": "stream",
     "text": [
      "  5%|▍         | 194/4096 [03:18<58:11,  1.12it/s]"
     ]
    },
    {
     "name": "stdout",
     "output_type": "stream",
     "text": [
      "Moviepy - Done !\n",
      "Moviepy - video ready c:\\Users\\Asus\\OneDrive\\Programming\\basic_rl\\videos\\ppo\\cartpole.mp4\\rl-video-episode-343.mp4\n"
     ]
    },
    {
     "name": "stderr",
     "output_type": "stream",
     "text": [
      "  5%|▍         | 195/4096 [03:19<1:11:47,  1.10s/it]"
     ]
    },
    {
     "name": "stdout",
     "output_type": "stream",
     "text": [
      "Moviepy - Building video c:\\Users\\Asus\\OneDrive\\Programming\\basic_rl\\videos\\ppo\\cartpole.mp4\\rl-video-episode-343.mp4.\n",
      "Moviepy - Writing video c:\\Users\\Asus\\OneDrive\\Programming\\basic_rl\\videos\\ppo\\cartpole.mp4\\rl-video-episode-343.mp4\n",
      "\n"
     ]
    },
    {
     "name": "stderr",
     "output_type": "stream",
     "text": [
      "  5%|▍         | 195/4096 [03:19<1:11:47,  1.10s/it]"
     ]
    },
    {
     "name": "stdout",
     "output_type": "stream",
     "text": [
      "Moviepy - Done !\n",
      "Moviepy - video ready c:\\Users\\Asus\\OneDrive\\Programming\\basic_rl\\videos\\ppo\\cartpole.mp4\\rl-video-episode-343.mp4\n"
     ]
    },
    {
     "name": "stderr",
     "output_type": "stream",
     "text": [
      "  5%|▍         | 196/4096 [03:20<1:22:04,  1.26s/it]"
     ]
    },
    {
     "name": "stdout",
     "output_type": "stream",
     "text": [
      "Moviepy - Building video c:\\Users\\Asus\\OneDrive\\Programming\\basic_rl\\videos\\ppo\\cartpole.mp4\\rl-video-episode-343.mp4.\n",
      "Moviepy - Writing video c:\\Users\\Asus\\OneDrive\\Programming\\basic_rl\\videos\\ppo\\cartpole.mp4\\rl-video-episode-343.mp4\n",
      "\n"
     ]
    },
    {
     "name": "stderr",
     "output_type": "stream",
     "text": [
      "  5%|▍         | 196/4096 [03:21<1:22:04,  1.26s/it]"
     ]
    },
    {
     "name": "stdout",
     "output_type": "stream",
     "text": [
      "Moviepy - Done !\n",
      "Moviepy - video ready c:\\Users\\Asus\\OneDrive\\Programming\\basic_rl\\videos\\ppo\\cartpole.mp4\\rl-video-episode-343.mp4\n"
     ]
    },
    {
     "name": "stderr",
     "output_type": "stream",
     "text": [
      "  5%|▍         | 204/4096 [03:29<1:10:47,  1.09s/it]"
     ]
    },
    {
     "name": "stdout",
     "output_type": "stream",
     "text": [
      "Moviepy - Building video c:\\Users\\Asus\\OneDrive\\Programming\\basic_rl\\videos\\ppo\\cartpole.mp4\\rl-video-episode-343.mp4.\n",
      "Moviepy - Writing video c:\\Users\\Asus\\OneDrive\\Programming\\basic_rl\\videos\\ppo\\cartpole.mp4\\rl-video-episode-343.mp4\n",
      "\n"
     ]
    },
    {
     "name": "stderr",
     "output_type": "stream",
     "text": [
      "  5%|▍         | 204/4096 [03:30<1:10:47,  1.09s/it]"
     ]
    },
    {
     "name": "stdout",
     "output_type": "stream",
     "text": [
      "Moviepy - Done !\n",
      "Moviepy - video ready c:\\Users\\Asus\\OneDrive\\Programming\\basic_rl\\videos\\ppo\\cartpole.mp4\\rl-video-episode-343.mp4\n"
     ]
    },
    {
     "name": "stderr",
     "output_type": "stream",
     "text": [
      "  8%|▊         | 327/4096 [05:19<54:14,  1.16it/s]  "
     ]
    },
    {
     "name": "stdout",
     "output_type": "stream",
     "text": [
      "Moviepy - Building video c:\\Users\\Asus\\OneDrive\\Programming\\basic_rl\\videos\\ppo\\cartpole.mp4\\rl-video-episode-512.mp4.\n",
      "Moviepy - Writing video c:\\Users\\Asus\\OneDrive\\Programming\\basic_rl\\videos\\ppo\\cartpole.mp4\\rl-video-episode-512.mp4\n",
      "\n"
     ]
    },
    {
     "name": "stderr",
     "output_type": "stream",
     "text": [
      "  8%|▊         | 327/4096 [05:20<54:14,  1.16it/s]"
     ]
    },
    {
     "name": "stdout",
     "output_type": "stream",
     "text": [
      "Moviepy - Done !\n",
      "Moviepy - video ready c:\\Users\\Asus\\OneDrive\\Programming\\basic_rl\\videos\\ppo\\cartpole.mp4\\rl-video-episode-512.mp4\n"
     ]
    },
    {
     "name": "stderr",
     "output_type": "stream",
     "text": [
      "  8%|▊         | 328/4096 [05:21<1:05:44,  1.05s/it]"
     ]
    },
    {
     "name": "stdout",
     "output_type": "stream",
     "text": [
      "Moviepy - Building video c:\\Users\\Asus\\OneDrive\\Programming\\basic_rl\\videos\\ppo\\cartpole.mp4\\rl-video-episode-512.mp4.\n",
      "Moviepy - Writing video c:\\Users\\Asus\\OneDrive\\Programming\\basic_rl\\videos\\ppo\\cartpole.mp4\\rl-video-episode-512.mp4\n",
      "\n"
     ]
    },
    {
     "name": "stderr",
     "output_type": "stream",
     "text": [
      "  8%|▊         | 328/4096 [05:21<1:05:44,  1.05s/it]"
     ]
    },
    {
     "name": "stdout",
     "output_type": "stream",
     "text": [
      "Moviepy - Done !\n",
      "Moviepy - video ready c:\\Users\\Asus\\OneDrive\\Programming\\basic_rl\\videos\\ppo\\cartpole.mp4\\rl-video-episode-512.mp4\n"
     ]
    },
    {
     "name": "stderr",
     "output_type": "stream",
     "text": [
      "  8%|▊         | 329/4096 [05:22<1:15:10,  1.20s/it]"
     ]
    },
    {
     "name": "stdout",
     "output_type": "stream",
     "text": [
      "Moviepy - Building video c:\\Users\\Asus\\OneDrive\\Programming\\basic_rl\\videos\\ppo\\cartpole.mp4\\rl-video-episode-512.mp4.\n",
      "Moviepy - Writing video c:\\Users\\Asus\\OneDrive\\Programming\\basic_rl\\videos\\ppo\\cartpole.mp4\\rl-video-episode-512.mp4\n",
      "\n"
     ]
    },
    {
     "name": "stderr",
     "output_type": "stream",
     "text": [
      "  8%|▊         | 329/4096 [05:22<1:15:10,  1.20s/it]"
     ]
    },
    {
     "name": "stdout",
     "output_type": "stream",
     "text": [
      "Moviepy - Done !\n",
      "Moviepy - video ready c:\\Users\\Asus\\OneDrive\\Programming\\basic_rl\\videos\\ppo\\cartpole.mp4\\rl-video-episode-512.mp4\n"
     ]
    },
    {
     "name": "stderr",
     "output_type": "stream",
     "text": [
      "  8%|▊         | 340/4096 [05:32<1:01:42,  1.01it/s]"
     ]
    },
    {
     "name": "stdout",
     "output_type": "stream",
     "text": [
      "Moviepy - Building video c:\\Users\\Asus\\OneDrive\\Programming\\basic_rl\\videos\\ppo\\cartpole.mp4\\rl-video-episode-512.mp4.\n",
      "Moviepy - Writing video c:\\Users\\Asus\\OneDrive\\Programming\\basic_rl\\videos\\ppo\\cartpole.mp4\\rl-video-episode-512.mp4\n",
      "\n"
     ]
    },
    {
     "name": "stderr",
     "output_type": "stream",
     "text": [
      "  8%|▊         | 340/4096 [05:33<1:01:42,  1.01it/s]"
     ]
    },
    {
     "name": "stdout",
     "output_type": "stream",
     "text": [
      "Moviepy - Done !\n",
      "Moviepy - video ready c:\\Users\\Asus\\OneDrive\\Programming\\basic_rl\\videos\\ppo\\cartpole.mp4\\rl-video-episode-512.mp4\n"
     ]
    },
    {
     "name": "stderr",
     "output_type": "stream",
     "text": [
      " 16%|█▋        | 670/4096 [10:11<56:36,  1.01it/s]  "
     ]
    },
    {
     "name": "stdout",
     "output_type": "stream",
     "text": [
      "Moviepy - Building video c:\\Users\\Asus\\OneDrive\\Programming\\basic_rl\\videos\\ppo\\cartpole.mp4\\rl-video-episode-729.mp4.\n",
      "Moviepy - Writing video c:\\Users\\Asus\\OneDrive\\Programming\\basic_rl\\videos\\ppo\\cartpole.mp4\\rl-video-episode-729.mp4\n",
      "\n"
     ]
    },
    {
     "name": "stderr",
     "output_type": "stream",
     "text": [
      " 16%|█▋        | 670/4096 [10:12<56:36,  1.01it/s]"
     ]
    },
    {
     "name": "stdout",
     "output_type": "stream",
     "text": [
      "Moviepy - Done !\n",
      "Moviepy - video ready c:\\Users\\Asus\\OneDrive\\Programming\\basic_rl\\videos\\ppo\\cartpole.mp4\\rl-video-episode-729.mp4\n"
     ]
    },
    {
     "name": "stderr",
     "output_type": "stream",
     "text": [
      " 17%|█▋        | 676/4096 [10:17<55:45,  1.02it/s]  "
     ]
    },
    {
     "name": "stdout",
     "output_type": "stream",
     "text": [
      "Moviepy - Building video c:\\Users\\Asus\\OneDrive\\Programming\\basic_rl\\videos\\ppo\\cartpole.mp4\\rl-video-episode-729.mp4.\n",
      "Moviepy - Writing video c:\\Users\\Asus\\OneDrive\\Programming\\basic_rl\\videos\\ppo\\cartpole.mp4\\rl-video-episode-729.mp4\n",
      "\n"
     ]
    },
    {
     "name": "stderr",
     "output_type": "stream",
     "text": [
      " 17%|█▋        | 676/4096 [10:18<55:45,  1.02it/s]"
     ]
    },
    {
     "name": "stdout",
     "output_type": "stream",
     "text": [
      "Moviepy - Done !\n",
      "Moviepy - video ready c:\\Users\\Asus\\OneDrive\\Programming\\basic_rl\\videos\\ppo\\cartpole.mp4\\rl-video-episode-729.mp4\n"
     ]
    },
    {
     "name": "stderr",
     "output_type": "stream",
     "text": [
      " 17%|█▋        | 689/4096 [10:30<1:02:31,  1.10s/it]"
     ]
    },
    {
     "name": "stdout",
     "output_type": "stream",
     "text": [
      "Moviepy - Building video c:\\Users\\Asus\\OneDrive\\Programming\\basic_rl\\videos\\ppo\\cartpole.mp4\\rl-video-episode-729.mp4.\n",
      "Moviepy - Writing video c:\\Users\\Asus\\OneDrive\\Programming\\basic_rl\\videos\\ppo\\cartpole.mp4\\rl-video-episode-729.mp4\n",
      "\n"
     ]
    },
    {
     "name": "stderr",
     "output_type": "stream",
     "text": [
      " 17%|█▋        | 689/4096 [10:30<1:02:31,  1.10s/it]"
     ]
    },
    {
     "name": "stdout",
     "output_type": "stream",
     "text": [
      "Moviepy - Done !\n",
      "Moviepy - video ready c:\\Users\\Asus\\OneDrive\\Programming\\basic_rl\\videos\\ppo\\cartpole.mp4\\rl-video-episode-729.mp4\n"
     ]
    },
    {
     "name": "stderr",
     "output_type": "stream",
     "text": [
      " 18%|█▊        | 726/4096 [11:02<1:03:36,  1.13s/it]"
     ]
    },
    {
     "name": "stdout",
     "output_type": "stream",
     "text": [
      "Moviepy - Building video c:\\Users\\Asus\\OneDrive\\Programming\\basic_rl\\videos\\ppo\\cartpole.mp4\\rl-video-episode-729.mp4.\n",
      "Moviepy - Writing video c:\\Users\\Asus\\OneDrive\\Programming\\basic_rl\\videos\\ppo\\cartpole.mp4\\rl-video-episode-729.mp4\n",
      "\n"
     ]
    },
    {
     "name": "stderr",
     "output_type": "stream",
     "text": [
      " 18%|█▊        | 726/4096 [11:03<1:03:36,  1.13s/it]"
     ]
    },
    {
     "name": "stdout",
     "output_type": "stream",
     "text": [
      "Moviepy - Done !\n",
      "Moviepy - video ready c:\\Users\\Asus\\OneDrive\\Programming\\basic_rl\\videos\\ppo\\cartpole.mp4\\rl-video-episode-729.mp4\n"
     ]
    },
    {
     "name": "stderr",
     "output_type": "stream",
     "text": [
      " 32%|███▏      | 1316/4096 [18:43<37:51,  1.22it/s] "
     ]
    },
    {
     "name": "stdout",
     "output_type": "stream",
     "text": [
      "Moviepy - Building video c:\\Users\\Asus\\OneDrive\\Programming\\basic_rl\\videos\\ppo\\cartpole.mp4\\rl-video-episode-1000.mp4.\n",
      "Moviepy - Writing video c:\\Users\\Asus\\OneDrive\\Programming\\basic_rl\\videos\\ppo\\cartpole.mp4\\rl-video-episode-1000.mp4\n",
      "\n"
     ]
    },
    {
     "name": "stderr",
     "output_type": "stream",
     "text": [
      " 32%|███▏      | 1316/4096 [18:43<37:51,  1.22it/s]"
     ]
    },
    {
     "name": "stdout",
     "output_type": "stream",
     "text": [
      "Moviepy - Done !\n",
      "Moviepy - video ready c:\\Users\\Asus\\OneDrive\\Programming\\basic_rl\\videos\\ppo\\cartpole.mp4\\rl-video-episode-1000.mp4\n"
     ]
    },
    {
     "name": "stderr",
     "output_type": "stream",
     "text": [
      " 32%|███▏      | 1320/4096 [18:48<55:42,  1.20s/it]"
     ]
    },
    {
     "name": "stdout",
     "output_type": "stream",
     "text": [
      "Moviepy - Building video c:\\Users\\Asus\\OneDrive\\Programming\\basic_rl\\videos\\ppo\\cartpole.mp4\\rl-video-episode-1000.mp4.\n",
      "Moviepy - Writing video c:\\Users\\Asus\\OneDrive\\Programming\\basic_rl\\videos\\ppo\\cartpole.mp4\\rl-video-episode-1000.mp4\n",
      "\n"
     ]
    },
    {
     "name": "stderr",
     "output_type": "stream",
     "text": [
      " 32%|███▏      | 1320/4096 [18:49<55:42,  1.20s/it]"
     ]
    },
    {
     "name": "stdout",
     "output_type": "stream",
     "text": [
      "Moviepy - Done !\n",
      "Moviepy - video ready c:\\Users\\Asus\\OneDrive\\Programming\\basic_rl\\videos\\ppo\\cartpole.mp4\\rl-video-episode-1000.mp4\n"
     ]
    },
    {
     "name": "stderr",
     "output_type": "stream",
     "text": [
      " 32%|███▏      | 1327/4096 [18:55<44:38,  1.03it/s]  "
     ]
    },
    {
     "name": "stdout",
     "output_type": "stream",
     "text": [
      "Moviepy - Building video c:\\Users\\Asus\\OneDrive\\Programming\\basic_rl\\videos\\ppo\\cartpole.mp4\\rl-video-episode-1000.mp4.\n",
      "Moviepy - Writing video c:\\Users\\Asus\\OneDrive\\Programming\\basic_rl\\videos\\ppo\\cartpole.mp4\\rl-video-episode-1000.mp4\n",
      "\n"
     ]
    },
    {
     "name": "stderr",
     "output_type": "stream",
     "text": [
      " 32%|███▏      | 1327/4096 [18:55<44:38,  1.03it/s]"
     ]
    },
    {
     "name": "stdout",
     "output_type": "stream",
     "text": [
      "Moviepy - Done !\n",
      "Moviepy - video ready c:\\Users\\Asus\\OneDrive\\Programming\\basic_rl\\videos\\ppo\\cartpole.mp4\\rl-video-episode-1000.mp4\n"
     ]
    },
    {
     "name": "stderr",
     "output_type": "stream",
     "text": [
      " 32%|███▏      | 1329/4096 [18:58<49:02,  1.06s/it]"
     ]
    },
    {
     "name": "stdout",
     "output_type": "stream",
     "text": [
      "Moviepy - Building video c:\\Users\\Asus\\OneDrive\\Programming\\basic_rl\\videos\\ppo\\cartpole.mp4\\rl-video-episode-1000.mp4.\n",
      "Moviepy - Writing video c:\\Users\\Asus\\OneDrive\\Programming\\basic_rl\\videos\\ppo\\cartpole.mp4\\rl-video-episode-1000.mp4\n",
      "\n"
     ]
    },
    {
     "name": "stderr",
     "output_type": "stream",
     "text": [
      " 32%|███▏      | 1329/4096 [18:58<49:02,  1.06s/it]"
     ]
    },
    {
     "name": "stdout",
     "output_type": "stream",
     "text": [
      "Moviepy - Done !\n",
      "Moviepy - video ready c:\\Users\\Asus\\OneDrive\\Programming\\basic_rl\\videos\\ppo\\cartpole.mp4\\rl-video-episode-1000.mp4\n"
     ]
    },
    {
     "name": "stderr",
     "output_type": "stream",
     "text": [
      " 72%|███████▏  | 2962/4096 [40:24<19:07,  1.01s/it]"
     ]
    },
    {
     "name": "stdout",
     "output_type": "stream",
     "text": [
      "Moviepy - Building video c:\\Users\\Asus\\OneDrive\\Programming\\basic_rl\\videos\\ppo\\cartpole.mp4\\rl-video-episode-2000.mp4.\n",
      "Moviepy - Writing video c:\\Users\\Asus\\OneDrive\\Programming\\basic_rl\\videos\\ppo\\cartpole.mp4\\rl-video-episode-2000.mp4\n",
      "\n"
     ]
    },
    {
     "name": "stderr",
     "output_type": "stream",
     "text": [
      " 72%|███████▏  | 2962/4096 [40:25<19:07,  1.01s/it]"
     ]
    },
    {
     "name": "stdout",
     "output_type": "stream",
     "text": [
      "Moviepy - Done !\n",
      "Moviepy - video ready c:\\Users\\Asus\\OneDrive\\Programming\\basic_rl\\videos\\ppo\\cartpole.mp4\\rl-video-episode-2000.mp4\n"
     ]
    },
    {
     "name": "stderr",
     "output_type": "stream",
     "text": [
      " 73%|███████▎  | 2988/4096 [40:48<18:03,  1.02it/s]"
     ]
    },
    {
     "name": "stdout",
     "output_type": "stream",
     "text": [
      "Moviepy - Building video c:\\Users\\Asus\\OneDrive\\Programming\\basic_rl\\videos\\ppo\\cartpole.mp4\\rl-video-episode-2000.mp4.\n",
      "Moviepy - Writing video c:\\Users\\Asus\\OneDrive\\Programming\\basic_rl\\videos\\ppo\\cartpole.mp4\\rl-video-episode-2000.mp4\n",
      "\n"
     ]
    },
    {
     "name": "stderr",
     "output_type": "stream",
     "text": [
      " 73%|███████▎  | 2988/4096 [40:49<18:03,  1.02it/s]"
     ]
    },
    {
     "name": "stdout",
     "output_type": "stream",
     "text": [
      "Moviepy - Done !\n",
      "Moviepy - video ready c:\\Users\\Asus\\OneDrive\\Programming\\basic_rl\\videos\\ppo\\cartpole.mp4\\rl-video-episode-2000.mp4\n"
     ]
    },
    {
     "name": "stderr",
     "output_type": "stream",
     "text": [
      " 73%|███████▎  | 2996/4096 [40:56<16:04,  1.14it/s]"
     ]
    },
    {
     "name": "stdout",
     "output_type": "stream",
     "text": [
      "Moviepy - Building video c:\\Users\\Asus\\OneDrive\\Programming\\basic_rl\\videos\\ppo\\cartpole.mp4\\rl-video-episode-2000.mp4.\n",
      "Moviepy - Writing video c:\\Users\\Asus\\OneDrive\\Programming\\basic_rl\\videos\\ppo\\cartpole.mp4\\rl-video-episode-2000.mp4\n",
      "\n"
     ]
    },
    {
     "name": "stderr",
     "output_type": "stream",
     "text": [
      " 73%|███████▎  | 2996/4096 [40:56<16:04,  1.14it/s]"
     ]
    },
    {
     "name": "stdout",
     "output_type": "stream",
     "text": [
      "Moviepy - Done !\n",
      "Moviepy - video ready c:\\Users\\Asus\\OneDrive\\Programming\\basic_rl\\videos\\ppo\\cartpole.mp4\\rl-video-episode-2000.mp4\n"
     ]
    },
    {
     "name": "stderr",
     "output_type": "stream",
     "text": [
      " 76%|███████▌  | 3106/4096 [42:24<16:37,  1.01s/it]"
     ]
    },
    {
     "name": "stdout",
     "output_type": "stream",
     "text": [
      "Moviepy - Building video c:\\Users\\Asus\\OneDrive\\Programming\\basic_rl\\videos\\ppo\\cartpole.mp4\\rl-video-episode-2000.mp4.\n",
      "Moviepy - Writing video c:\\Users\\Asus\\OneDrive\\Programming\\basic_rl\\videos\\ppo\\cartpole.mp4\\rl-video-episode-2000.mp4\n",
      "\n"
     ]
    },
    {
     "name": "stderr",
     "output_type": "stream",
     "text": [
      " 76%|███████▌  | 3106/4096 [42:24<16:37,  1.01s/it]"
     ]
    },
    {
     "name": "stdout",
     "output_type": "stream",
     "text": [
      "Moviepy - Done !\n",
      "Moviepy - video ready c:\\Users\\Asus\\OneDrive\\Programming\\basic_rl\\videos\\ppo\\cartpole.mp4\\rl-video-episode-2000.mp4\n"
     ]
    },
    {
     "name": "stderr",
     "output_type": "stream",
     "text": [
      "100%|██████████| 4096/4096 [55:21<00:00,  1.23it/s]\n"
     ]
    }
   ],
   "source": [
    "total_timesteps = 64#*4096\n",
    "bs = 64\n",
    "gamma = 0.99\n",
    "update_epochs = 4 \n",
    "mini_bs = 4 \n",
    "clip_coef = 0.2\n",
    "ent_coef = 0.01 \n",
    "vf_coef = 0.5\n",
    "\n",
    "global_step = 0 \n",
    "next_obs = torch.tensor(envs.reset()[0]).to(device) \n",
    "next_done = torch.zeros(num_envs).to(device) \n",
    "num_updates = total_timesteps // bs\n",
    "\n",
    "for update in trange(1, num_updates + 1): \n",
    "\tfor step in range(0, num_steps): \n",
    "\t\tglobal_step += 1 * num_envs \n",
    "\t\tobs[step] = next_obs \n",
    "\t\tdones[step] = next_done \n",
    "\t\t\n",
    "\t\twith torch.no_grad(): \n",
    "\t\t\taction, logprob, _, value = agent.get_action_and_value(next_obs) \n",
    "\t\t\tvalues[step] = value.flatten() \n",
    "\t\tactions[step] = action \n",
    "\t\tlogprobs[step] = logprob\n",
    "\n",
    "\t\tnext_obs, reward, terminated, truncated, info = envs.step(action.cpu().numpy())\n",
    "\t\tdone = np.bitwise_or(terminated, truncated).astype(np.float32) \n",
    "\t\trewards[step] = torch.tensor(reward).to(device).view(-1) \n",
    "\t\tnext_obs, next_done = torch.tensor(next_obs).to(device), torch.tensor(done).to(device) \n",
    "\n",
    "\twith torch.no_grad(): \n",
    "\t\tnext_value = agent.get_value(next_obs).reshape(1, -1) \n",
    "\t\t# no GAE \t\n",
    "\t\treturns = torch.zeros_like(rewards).to(device) \n",
    "\t\tfor t in reversed(range(num_steps)): \n",
    "\t\t\tif t == num_steps - 1: \n",
    "\t\t\t\tnext_non_terminal = 1.0 - next_done \n",
    "\t\t\t\tnext_return = next_value \n",
    "\t\t\telse: \n",
    "\t\t\t\tnext_non_terminal = 1.0 - dones[t + 1]\n",
    "\t\t\t\tnext_return = returns[t + 1]\n",
    "\t\t\treturns[t] = rewards[t] + gamma * next_non_terminal * next_return \n",
    "\t\tadvantages = returns - values \n",
    "\n",
    "\tb_obs = obs.reshape((-1,) + envs.single_observation_space.shape) \n",
    "\tb_logprobs = logprobs.reshape(-1) \n",
    "\tb_actions = actions.reshape((-1,) + envs.single_action_space.shape)\n",
    "\tb_advantages = advantages.reshape(-1) \n",
    "\tb_returns = returns.reshape(-1) \n",
    "\tb_values = values.reshape(-1) \n",
    "\n",
    "\tb_inds = np.arange(bs) \n",
    "\tclipfracs = list() \n",
    "\t\n",
    "\tfor epoch in range(update_epochs): \n",
    "\t\tnp.random.shuffle(b_inds)\n",
    "\t\tfor start in range(0, bs, mini_bs): \n",
    "\t\t\tend = start + mini_bs \n",
    "\t\t\tmb_inds = b_inds[start:end]\n",
    "\n",
    "\t\t\t_, newlogprob, entropy, newvalue = agent.get_action_and_value(b_obs[mb_inds], b_actions.long()[mb_inds])\n",
    "\t\t\tlogratio = newlogprob - b_logprobs[mb_inds]\n",
    "\t\t\tratio = logratio.exp() \n",
    "\n",
    "\t\t\twith torch.no_grad(): \n",
    "\t\t\t\told_approx_kl = (-logprob).mean() \n",
    "\t\t\t\tapprox_kl = ((ratio - 1) - logratio).mean() \n",
    "\t\t\t\tclipfracs += [((ratio - 1.0).abs() > clip_coef).float().mean().item()]\n",
    "\t\t\t\n",
    "\t\t\tmb_advantages = b_advantages[mb_inds]\n",
    "\t\t\t# normalizing advantages can be turned off \n",
    "\t\t\tmb_advantages = (mb_advantages - mb_advantages.mean()) / (mb_advantages.std() + 1e-8)\n",
    "\n",
    "\t\t\tpg_loss1 = -mb_advantages * ratio \n",
    "\t\t\tpg_loss2 = -mb_advantages * torch.clamp(ratio, 1 - clip_coef, 1 + clip_coef) \n",
    "\t\t\tpg_loss = torch.max(pg_loss1, pg_loss2).mean() \n",
    "\n",
    "\t\t\tv_loss_unclipped = (newvalue - b_returns[mb_inds])**2 \n",
    "\t\t\tv_clipped = b_values[mb_inds] + torch.clamp(newvalue - b_values[mb_inds], -clip_coef, clip_coef)\n",
    "\t\t\tv_loss_clipped = (v_clipped - b_returns[mb_inds])**2 \n",
    "\t\t\tv_loss_max = torch.max(v_loss_unclipped, v_loss_clipped) \n",
    "\t\t\tv_loss = 0.5 * v_loss_max.mean() \n",
    "\n",
    "\t\t\tentropy_loss = entropy.mean() \n",
    "\t\t\tloss = pg_loss - ent_coef * entropy_loss + v_loss * vf_coef \n",
    "\n",
    "\t\t\toptimizer.zero_grad() \n",
    "\t\t\tloss.backward() \n",
    "\t\t\tnn.utils.clip_grad_norm_(agent.parameters(), 0.5) \n",
    "\t\t\toptimizer.step() \n",
    "\n",
    "\t\ty_pred, y_true = b_values.cpu().numpy(), b_returns.cpu().numpy() \n",
    "\t\tvar_y = np.var(y_true) \n",
    "\t\texplained_var = np.nan if var_y == 0 else 1 - np.var(y_true - y_pred) / var_y \n",
    "\n",
    "\t\twriter.add_scalar('charts/learning_rate', optimizer.param_groups[0]['lr'], global_step)\n",
    "\t\twriter.add_scalar('losses/value_loss', v_loss.item(), global_step)\n",
    "\t\twriter.add_scalar(\"losses/policy_loss\", pg_loss.item(), global_step)\n",
    "\t\twriter.add_scalar(\"losses/entropy\", entropy_loss.item(), global_step)\n",
    "\t\twriter.add_scalar(\"losses/old_approx_kl\", old_approx_kl.item(), global_step)\n",
    "\t\twriter.add_scalar(\"losses/approx_kl\", approx_kl.item(), global_step)\n",
    "\t\twriter.add_scalar(\"losses/clipfrac\", np.mean(clipfracs), global_step)\n",
    "\t\twriter.add_scalar(\"losses/explained_variance\", explained_var, global_step)"
   ]
  },
  {
   "cell_type": "code",
   "execution_count": 10,
   "metadata": {},
   "outputs": [],
   "source": [
    "torch.save(agent.state_dict(), 'models/cartpole_ppo/4096_train.pth')"
   ]
  }
 ],
 "metadata": {
  "kernelspec": {
   "display_name": "AI_310",
   "language": "python",
   "name": "python3"
  },
  "language_info": {
   "codemirror_mode": {
    "name": "ipython",
    "version": 3
   },
   "file_extension": ".py",
   "mimetype": "text/x-python",
   "name": "python",
   "nbconvert_exporter": "python",
   "pygments_lexer": "ipython3",
   "version": "3.10.10"
  },
  "orig_nbformat": 4
 },
 "nbformat": 4,
 "nbformat_minor": 2
}
